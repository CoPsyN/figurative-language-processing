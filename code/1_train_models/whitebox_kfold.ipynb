{
 "cells": [
  {
   "cell_type": "code",
   "execution_count": 1,
   "id": "bdcbd877-5db3-4868-acd8-50d296308c23",
   "metadata": {},
   "outputs": [],
   "source": [
    "import pickle, datetime\n",
    "import pandas as pd\n",
    "import numpy as np\n",
    "import seaborn as sns\n",
    "from sklearn.model_selection import KFold\n",
    "from sklearn.linear_model import LogisticRegression\n",
    "from sklearn.ensemble import RandomForestClassifier\n",
    "from sklearn.tree import DecisionTreeClassifier\n",
    "from sklearn.naive_bayes import GaussianNB\n",
    "from sklearn.metrics import classification_report, f1_score, confusion_matrix, accuracy_score\n",
    "from sklearn.feature_extraction.text import TfidfVectorizer\n",
    "from matplotlib import pyplot as plt\n",
    "from tqdm import tqdm"
   ]
  },
  {
   "cell_type": "code",
   "execution_count": 2,
   "id": "d060ddec-5576-45fd-8645-df253d56a77f",
   "metadata": {},
   "outputs": [
    {
     "name": "stdout",
     "output_type": "stream",
     "text": [
      "(4342, 5)\n",
      "1    2212\n",
      "2     884\n",
      "3     625\n",
      "4     621\n",
      "Name: label, dtype: int64\n"
     ]
    },
    {
     "data": {
      "text/html": [
       "<div>\n",
       "<style scoped>\n",
       "    .dataframe tbody tr th:only-of-type {\n",
       "        vertical-align: middle;\n",
       "    }\n",
       "\n",
       "    .dataframe tbody tr th {\n",
       "        vertical-align: top;\n",
       "    }\n",
       "\n",
       "    .dataframe thead th {\n",
       "        text-align: right;\n",
       "    }\n",
       "</style>\n",
       "<table border=\"1\" class=\"dataframe\">\n",
       "  <thead>\n",
       "    <tr style=\"text-align: right;\">\n",
       "      <th></th>\n",
       "      <th>index</th>\n",
       "      <th>text</th>\n",
       "      <th>label</th>\n",
       "      <th>label_binary</th>\n",
       "      <th>source</th>\n",
       "    </tr>\n",
       "  </thead>\n",
       "  <tbody>\n",
       "    <tr>\n",
       "      <th>0</th>\n",
       "      <td>4</td>\n",
       "      <td>He pulls a giant disc out and flashes it like ...</td>\n",
       "      <td>3</td>\n",
       "      <td>1</td>\n",
       "      <td>Simile_hypothesis</td>\n",
       "    </tr>\n",
       "    <tr>\n",
       "      <th>1</th>\n",
       "      <td>9</td>\n",
       "      <td>Some bright young thing had gotten ahold of a ...</td>\n",
       "      <td>2</td>\n",
       "      <td>1</td>\n",
       "      <td>Idiom_hypothesis</td>\n",
       "    </tr>\n",
       "    <tr>\n",
       "      <th>2</th>\n",
       "      <td>13</td>\n",
       "      <td>“I might be mistaken, but Sean's father looked...</td>\n",
       "      <td>2</td>\n",
       "      <td>1</td>\n",
       "      <td>Idiom_hypothesis</td>\n",
       "    </tr>\n",
       "    <tr>\n",
       "      <th>3</th>\n",
       "      <td>14</td>\n",
       "      <td>Her movements like a strange strip tease .</td>\n",
       "      <td>3</td>\n",
       "      <td>1</td>\n",
       "      <td>Simile_hypothesis</td>\n",
       "    </tr>\n",
       "    <tr>\n",
       "      <th>4</th>\n",
       "      <td>16</td>\n",
       "      <td>I had to leave my childhood home, and am grate...</td>\n",
       "      <td>1</td>\n",
       "      <td>1</td>\n",
       "      <td>Sarcasm_hypothesis</td>\n",
       "    </tr>\n",
       "  </tbody>\n",
       "</table>\n",
       "</div>"
      ],
      "text/plain": [
       "   index                                               text  label  \\\n",
       "0      4  He pulls a giant disc out and flashes it like ...      3   \n",
       "1      9  Some bright young thing had gotten ahold of a ...      2   \n",
       "2     13  “I might be mistaken, but Sean's father looked...      2   \n",
       "3     14         Her movements like a strange strip tease .      3   \n",
       "4     16  I had to leave my childhood home, and am grate...      1   \n",
       "\n",
       "   label_binary              source  \n",
       "0             1   Simile_hypothesis  \n",
       "1             1    Idiom_hypothesis  \n",
       "2             1    Idiom_hypothesis  \n",
       "3             1   Simile_hypothesis  \n",
       "4             1  Sarcasm_hypothesis  "
      ]
     },
     "execution_count": 2,
     "metadata": {},
     "output_type": "execute_result"
    }
   ],
   "source": [
    "df = pd.read_csv(\"../data/figlang_all.tsv\", sep=\"\\t\", encoding=\"utf-8\")\n",
    "df = df[df['label'] != 0].reset_index()\n",
    "print(df.shape)\n",
    "print(df[\"label\"].value_counts())\n",
    "df.head()"
   ]
  },
  {
   "cell_type": "code",
   "execution_count": 3,
   "id": "a7ac2be8-d6bc-41d6-90f4-1c5b438fc605",
   "metadata": {},
   "outputs": [],
   "source": [
    "RANDOM_STATE = 45"
   ]
  },
  {
   "cell_type": "markdown",
   "id": "75be6276-da1d-4492-a7a9-0a12d568e9f5",
   "metadata": {},
   "source": [
    "# 1. Transform the text to tf-idf vectors"
   ]
  },
  {
   "cell_type": "code",
   "execution_count": 4,
   "id": "0e747c3f-8c73-4cbe-96c5-77503e7cd1af",
   "metadata": {},
   "outputs": [
    {
     "name": "stdout",
     "output_type": "stream",
     "text": [
      "(4342, 6891)\n",
      "(4342,)\n"
     ]
    }
   ],
   "source": [
    "tfidf_multi = TfidfVectorizer(ngram_range=(1, 1))\n",
    "\n",
    "X = tfidf_multi.fit_transform(df['text']).toarray()\n",
    "y = df['label']\n",
    "\n",
    "print(X.shape)\n",
    "print(y.shape)"
   ]
  },
  {
   "cell_type": "markdown",
   "id": "5674cd65-531a-45c6-8531-9cfa3bb3d256",
   "metadata": {},
   "source": [
    "# 2. K-fold validation"
   ]
  },
  {
   "cell_type": "code",
   "execution_count": 5,
   "id": "3d134f80-a7b7-4e72-ac65-688862f253c7",
   "metadata": {},
   "outputs": [],
   "source": [
    "def k_fold_validation(X, y, clf, k):\n",
    "    kf = KFold(n_splits=k, shuffle=False)\n",
    "    f1s = np.zeros(10)\n",
    "    \n",
    "    for i, (train_index, test_index) in tqdm(enumerate(kf.split(X)), total=k, bar_format='{l_bar}{bar:10}{r_bar}{bar:-10b}'):\n",
    "        x_train, x_test = X[train_index], X[test_index]\n",
    "        y_train, y_test = y[train_index], y[test_index]\n",
    "        \n",
    "        clf.fit(x_train, y_train)\n",
    "        preds = clf.predict(x_test)\n",
    "        f1 = f1_score(y_test, preds, average='macro')     \n",
    "        f1s[i] = f1\n",
    "        \n",
    "    print(\"Mean F1: \", f1s.mean())"
   ]
  },
  {
   "cell_type": "markdown",
   "id": "3e41044d-25f7-430e-a35c-c0d0c2e90ff9",
   "metadata": {},
   "source": [
    "## 2.1 Random forest"
   ]
  },
  {
   "cell_type": "code",
   "execution_count": 6,
   "id": "6eddba56-2331-4a46-a37f-3e4b49d67962",
   "metadata": {
    "tags": []
   },
   "outputs": [
    {
     "name": "stderr",
     "output_type": "stream",
     "text": [
      "100%|██████████| 10/10 [00:44<00:00,  4.46s/it]"
     ]
    },
    {
     "name": "stdout",
     "output_type": "stream",
     "text": [
      "Mean F1:  0.8484869888615432\n"
     ]
    },
    {
     "name": "stderr",
     "output_type": "stream",
     "text": [
      "\n"
     ]
    }
   ],
   "source": [
    "rf = RandomForestClassifier(random_state=RANDOM_STATE, n_estimators=100)\n",
    "k_fold_validation(X=X, y=y, clf=rf, k=10)"
   ]
  },
  {
   "cell_type": "markdown",
   "id": "719baa32-aebd-4c70-b974-ab6f5c53798e",
   "metadata": {},
   "source": [
    "## 2.2 Logistic regression"
   ]
  },
  {
   "cell_type": "code",
   "execution_count": 7,
   "id": "ae6a0816-a040-4c0d-a8e6-b29f983dcffa",
   "metadata": {},
   "outputs": [
    {
     "name": "stderr",
     "output_type": "stream",
     "text": [
      "100%|██████████| 10/10 [02:29<00:00, 14.94s/it]"
     ]
    },
    {
     "name": "stdout",
     "output_type": "stream",
     "text": [
      "Mean F1:  0.8681840657103749\n"
     ]
    },
    {
     "name": "stderr",
     "output_type": "stream",
     "text": [
      "\n"
     ]
    }
   ],
   "source": [
    "lr = LogisticRegression(solver='sag', multi_class=\"multinomial\", random_state=RANDOM_STATE)\n",
    "k_fold_validation(X=X, y=y, clf=lr, k=10)"
   ]
  },
  {
   "cell_type": "markdown",
   "id": "629c9543-5fb9-467d-902d-8540e8f1e143",
   "metadata": {},
   "source": [
    "## 2.3 Decision tree"
   ]
  },
  {
   "cell_type": "code",
   "execution_count": 8,
   "id": "86eb3138-ea36-46d1-93de-eeca8e626328",
   "metadata": {},
   "outputs": [
    {
     "name": "stderr",
     "output_type": "stream",
     "text": [
      "100%|██████████| 10/10 [00:22<00:00,  2.22s/it]"
     ]
    },
    {
     "name": "stdout",
     "output_type": "stream",
     "text": [
      "Mean F1:  0.7673530712288912\n"
     ]
    },
    {
     "name": "stderr",
     "output_type": "stream",
     "text": [
      "\n"
     ]
    }
   ],
   "source": [
    "dt = DecisionTreeClassifier(random_state=RANDOM_STATE)\n",
    "k_fold_validation(X=X, y=y, clf=dt, k=10)"
   ]
  },
  {
   "cell_type": "markdown",
   "id": "75a89dee-dd1f-408f-b8fd-09cd5c172dbc",
   "metadata": {},
   "source": [
    "## 2.4 Naive Bayes"
   ]
  },
  {
   "cell_type": "code",
   "execution_count": 9,
   "id": "5f539f7c-bb48-4fbf-8933-17395275c604",
   "metadata": {},
   "outputs": [
    {
     "name": "stderr",
     "output_type": "stream",
     "text": [
      "100%|██████████| 10/10 [00:02<00:00,  3.52it/s]"
     ]
    },
    {
     "name": "stdout",
     "output_type": "stream",
     "text": [
      "Mean F1:  0.6782524290183078\n"
     ]
    },
    {
     "name": "stderr",
     "output_type": "stream",
     "text": [
      "\n"
     ]
    }
   ],
   "source": [
    "nb = GaussianNB()\n",
    "k_fold_validation(X=X, y=y, clf=nb, k=10)"
   ]
  }
 ],
 "metadata": {
  "kernelspec": {
   "display_name": "Python 3 (ipykernel)",
   "language": "python",
   "name": "python3"
  },
  "language_info": {
   "codemirror_mode": {
    "name": "ipython",
    "version": 3
   },
   "file_extension": ".py",
   "mimetype": "text/x-python",
   "name": "python",
   "nbconvert_exporter": "python",
   "pygments_lexer": "ipython3",
   "version": "3.10.10"
  }
 },
 "nbformat": 4,
 "nbformat_minor": 5
}
