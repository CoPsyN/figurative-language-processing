{
 "cells": [
  {
   "cell_type": "markdown",
   "id": "4f67cc89-4cc3-4ecf-8185-a7ef1bce4c41",
   "metadata": {},
   "source": [
    "**NOTE:** Due to the high computational cost of SHAP, the runtime of this script can be long."
   ]
  },
  {
   "cell_type": "code",
   "execution_count": 1,
   "id": "765a8dce-d77d-47a6-9677-ace06387e3a1",
   "metadata": {},
   "outputs": [
    {
     "data": {
      "text/plain": [
       "1"
      ]
     },
     "execution_count": 1,
     "metadata": {},
     "output_type": "execute_result"
    }
   ],
   "source": [
    "import torch\n",
    "\n",
    "device = torch.device(\"cuda\" if torch.cuda.is_available() else \"cpu\")\n",
    "\n",
    "torch.cuda.set_device(1)\n",
    "torch.cuda.current_device()"
   ]
  },
  {
   "cell_type": "code",
   "execution_count": 3,
   "id": "77e8338d-d99c-4ca2-91fa-ed6e20aa400a",
   "metadata": {},
   "outputs": [
    {
     "name": "stderr",
     "output_type": "stream",
     "text": [
      "2023-05-10 23:58:53.602737: I tensorflow/core/platform/cpu_feature_guard.cc:193] This TensorFlow binary is optimized with oneAPI Deep Neural Network Library (oneDNN) to use the following CPU instructions in performance-critical operations:  AVX2 FMA\n",
      "To enable them in other operations, rebuild TensorFlow with the appropriate compiler flags.\n"
     ]
    }
   ],
   "source": [
    "import shap, datasets, pickle, datetime, copy, os\n",
    "\n",
    "import pandas as pd\n",
    "import numpy as np\n",
    "import scipy as sp\n",
    "import tensorflow as tf\n",
    "\n",
    "from transformers import AutoTokenizer, AutoModelForSequenceClassification, pipeline\n",
    "from shap import Explanation\n",
    "from shap.plots._utils import convert_ordering\n",
    "from shap.utils import ordinal_str\n",
    "from collections import defaultdict"
   ]
  },
  {
   "cell_type": "markdown",
   "id": "7ea71ed8-afc9-485c-b6e8-8278e9d7f6d3",
   "metadata": {},
   "source": [
    "# 1. Set the model to use\n",
    "\n",
    "**Uncomment one of the lines below to set the model.**"
   ]
  },
  {
   "cell_type": "code",
   "execution_count": 4,
   "id": "0490ebad-bc35-4ef0-a560-9438909e53b8",
   "metadata": {},
   "outputs": [],
   "source": [
    "MODEL_NAME = \"bert-base-uncased\"\n",
    "#MODEL_NAME = \"roberta-base\"\n",
    "#MODEL_NAME = \"xlnet-base-cased\""
   ]
  },
  {
   "cell_type": "markdown",
   "id": "6313eac0-54e0-4ec2-b36b-6a8b9780368b",
   "metadata": {},
   "source": [
    "# 2. Load dataset and set which model to use"
   ]
  },
  {
   "cell_type": "code",
   "execution_count": 5,
   "id": "0779ed44-5dc9-413c-885a-f9568be433c3",
   "metadata": {},
   "outputs": [
    {
     "name": "stdout",
     "output_type": "stream",
     "text": [
      "(10848, 4)\n",
      "0    6506\n",
      "1    2212\n",
      "2     884\n",
      "3     625\n",
      "4     621\n",
      "Name: label, dtype: int64\n"
     ]
    },
    {
     "data": {
      "text/html": [
       "<div>\n",
       "<style scoped>\n",
       "    .dataframe tbody tr th:only-of-type {\n",
       "        vertical-align: middle;\n",
       "    }\n",
       "\n",
       "    .dataframe tbody tr th {\n",
       "        vertical-align: top;\n",
       "    }\n",
       "\n",
       "    .dataframe thead th {\n",
       "        text-align: right;\n",
       "    }\n",
       "</style>\n",
       "<table border=\"1\" class=\"dataframe\">\n",
       "  <thead>\n",
       "    <tr style=\"text-align: right;\">\n",
       "      <th></th>\n",
       "      <th>text</th>\n",
       "      <th>label</th>\n",
       "      <th>label_binary</th>\n",
       "      <th>source</th>\n",
       "    </tr>\n",
       "  </thead>\n",
       "  <tbody>\n",
       "    <tr>\n",
       "      <th>0</th>\n",
       "      <td>I can't believe my ex didn't pay his car note ...</td>\n",
       "      <td>0</td>\n",
       "      <td>0</td>\n",
       "      <td>Sarcasm_premise</td>\n",
       "    </tr>\n",
       "    <tr>\n",
       "      <th>1</th>\n",
       "      <td>But then the paper would not find out about yo...</td>\n",
       "      <td>0</td>\n",
       "      <td>0</td>\n",
       "      <td>Idiom_premise</td>\n",
       "    </tr>\n",
       "    <tr>\n",
       "      <th>2</th>\n",
       "      <td>Last week my kid said some really mean things ...</td>\n",
       "      <td>0</td>\n",
       "      <td>0</td>\n",
       "      <td>CreativeParaphrase_premise</td>\n",
       "    </tr>\n",
       "    <tr>\n",
       "      <th>3</th>\n",
       "      <td>The gravy was so fatty, it made the meat taste...</td>\n",
       "      <td>0</td>\n",
       "      <td>0</td>\n",
       "      <td>Metaphor_premise</td>\n",
       "    </tr>\n",
       "    <tr>\n",
       "      <th>4</th>\n",
       "      <td>He pulls a giant disc out and flashes it like ...</td>\n",
       "      <td>3</td>\n",
       "      <td>1</td>\n",
       "      <td>Simile_hypothesis</td>\n",
       "    </tr>\n",
       "  </tbody>\n",
       "</table>\n",
       "</div>"
      ],
      "text/plain": [
       "                                                text  label  label_binary  \\\n",
       "0  I can't believe my ex didn't pay his car note ...      0             0   \n",
       "1  But then the paper would not find out about yo...      0             0   \n",
       "2  Last week my kid said some really mean things ...      0             0   \n",
       "3  The gravy was so fatty, it made the meat taste...      0             0   \n",
       "4  He pulls a giant disc out and flashes it like ...      3             1   \n",
       "\n",
       "                       source  \n",
       "0             Sarcasm_premise  \n",
       "1               Idiom_premise  \n",
       "2  CreativeParaphrase_premise  \n",
       "3            Metaphor_premise  \n",
       "4           Simile_hypothesis  "
      ]
     },
     "execution_count": 5,
     "metadata": {},
     "output_type": "execute_result"
    }
   ],
   "source": [
    "df = pd.read_csv(\"../data/figlang_all.tsv\", sep=\"\\t\", encoding=\"utf-8\")\n",
    "print(df.shape)\n",
    "print(df[\"label\"].value_counts())\n",
    "df.head()"
   ]
  },
  {
   "cell_type": "code",
   "execution_count": 6,
   "id": "59fde149-d3bd-45f5-ae52-1375edd4b5a7",
   "metadata": {},
   "outputs": [
    {
     "name": "stdout",
     "output_type": "stream",
     "text": [
      "(4342, 5)\n",
      "1    2212\n",
      "2     884\n",
      "3     625\n",
      "4     621\n",
      "Name: label, dtype: int64\n"
     ]
    },
    {
     "data": {
      "text/html": [
       "<div>\n",
       "<style scoped>\n",
       "    .dataframe tbody tr th:only-of-type {\n",
       "        vertical-align: middle;\n",
       "    }\n",
       "\n",
       "    .dataframe tbody tr th {\n",
       "        vertical-align: top;\n",
       "    }\n",
       "\n",
       "    .dataframe thead th {\n",
       "        text-align: right;\n",
       "    }\n",
       "</style>\n",
       "<table border=\"1\" class=\"dataframe\">\n",
       "  <thead>\n",
       "    <tr style=\"text-align: right;\">\n",
       "      <th></th>\n",
       "      <th>index</th>\n",
       "      <th>text</th>\n",
       "      <th>label</th>\n",
       "      <th>label_binary</th>\n",
       "      <th>source</th>\n",
       "    </tr>\n",
       "  </thead>\n",
       "  <tbody>\n",
       "    <tr>\n",
       "      <th>0</th>\n",
       "      <td>4</td>\n",
       "      <td>He pulls a giant disc out and flashes it like ...</td>\n",
       "      <td>3</td>\n",
       "      <td>1</td>\n",
       "      <td>Simile_hypothesis</td>\n",
       "    </tr>\n",
       "    <tr>\n",
       "      <th>1</th>\n",
       "      <td>9</td>\n",
       "      <td>Some bright young thing had gotten ahold of a ...</td>\n",
       "      <td>2</td>\n",
       "      <td>1</td>\n",
       "      <td>Idiom_hypothesis</td>\n",
       "    </tr>\n",
       "    <tr>\n",
       "      <th>2</th>\n",
       "      <td>13</td>\n",
       "      <td>“I might be mistaken, but Sean's father looked...</td>\n",
       "      <td>2</td>\n",
       "      <td>1</td>\n",
       "      <td>Idiom_hypothesis</td>\n",
       "    </tr>\n",
       "    <tr>\n",
       "      <th>3</th>\n",
       "      <td>14</td>\n",
       "      <td>Her movements like a strange strip tease .</td>\n",
       "      <td>3</td>\n",
       "      <td>1</td>\n",
       "      <td>Simile_hypothesis</td>\n",
       "    </tr>\n",
       "    <tr>\n",
       "      <th>4</th>\n",
       "      <td>16</td>\n",
       "      <td>I had to leave my childhood home, and am grate...</td>\n",
       "      <td>1</td>\n",
       "      <td>1</td>\n",
       "      <td>Sarcasm_hypothesis</td>\n",
       "    </tr>\n",
       "  </tbody>\n",
       "</table>\n",
       "</div>"
      ],
      "text/plain": [
       "   index                                               text  label  \\\n",
       "0      4  He pulls a giant disc out and flashes it like ...      3   \n",
       "1      9  Some bright young thing had gotten ahold of a ...      2   \n",
       "2     13  “I might be mistaken, but Sean's father looked...      2   \n",
       "3     14         Her movements like a strange strip tease .      3   \n",
       "4     16  I had to leave my childhood home, and am grate...      1   \n",
       "\n",
       "   label_binary              source  \n",
       "0             1   Simile_hypothesis  \n",
       "1             1    Idiom_hypothesis  \n",
       "2             1    Idiom_hypothesis  \n",
       "3             1   Simile_hypothesis  \n",
       "4             1  Sarcasm_hypothesis  "
      ]
     },
     "execution_count": 6,
     "metadata": {},
     "output_type": "execute_result"
    }
   ],
   "source": [
    "df_multi = df[df[\"label\"] != 0].reset_index()\n",
    "print(df_multi.shape)\n",
    "print(df_multi[\"label\"].value_counts())\n",
    "df_multi.head()"
   ]
  },
  {
   "cell_type": "code",
   "execution_count": 7,
   "id": "134098f3-5e03-4aba-bb7b-1d3ed876f5ce",
   "metadata": {},
   "outputs": [
    {
     "name": "stdout",
     "output_type": "stream",
     "text": [
      "4342\n"
     ]
    },
    {
     "data": {
      "text/plain": [
       "Dataset({\n",
       "    features: ['index', 'text', 'label', 'label_binary', 'source'],\n",
       "    num_rows: 4342\n",
       "})"
      ]
     },
     "execution_count": 7,
     "metadata": {},
     "output_type": "execute_result"
    }
   ],
   "source": [
    "dataset = datasets.Dataset.from_pandas(df_multi)\n",
    "print(len(dataset))\n",
    "dataset"
   ]
  },
  {
   "cell_type": "markdown",
   "id": "4ce223f7-842c-4b53-a029-c9c3d383657d",
   "metadata": {},
   "source": [
    "# 3. Load model"
   ]
  },
  {
   "cell_type": "code",
   "execution_count": 8,
   "id": "1ea1f13b-5e34-4347-883e-28da1ab99623",
   "metadata": {},
   "outputs": [],
   "source": [
    "model_path_dict = {\n",
    "    \"bert-base-uncased\": \"../results/models/bert-base-uncased-figlang\",\n",
    "    \"roberta-base\": \"../results/models/roberta-base-figlang\",    \n",
    "    \"xlnet-base-cased\": \"../results/models/xlnet-base-cased-figlang\",\n",
    "}"
   ]
  },
  {
   "cell_type": "code",
   "execution_count": 9,
   "id": "29746554-e617-438d-b521-75ad0b9f3b80",
   "metadata": {},
   "outputs": [
    {
     "name": "stdout",
     "output_type": "stream",
     "text": [
      "../results/models/bert-base-uncased-figlang\n"
     ]
    }
   ],
   "source": [
    "output_dir = model_path_dict[MODEL_NAME]\n",
    "print(output_dir)"
   ]
  },
  {
   "cell_type": "code",
   "execution_count": 10,
   "id": "ee5ca34d-2a2d-4600-b44a-a7dfdfe8d840",
   "metadata": {
    "tags": []
   },
   "outputs": [
    {
     "data": {
      "text/plain": [
       "BertForSequenceClassification(\n",
       "  (bert): BertModel(\n",
       "    (embeddings): BertEmbeddings(\n",
       "      (word_embeddings): Embedding(30522, 768, padding_idx=0)\n",
       "      (position_embeddings): Embedding(512, 768)\n",
       "      (token_type_embeddings): Embedding(2, 768)\n",
       "      (LayerNorm): LayerNorm((768,), eps=1e-12, elementwise_affine=True)\n",
       "      (dropout): Dropout(p=0.1, inplace=False)\n",
       "    )\n",
       "    (encoder): BertEncoder(\n",
       "      (layer): ModuleList(\n",
       "        (0): BertLayer(\n",
       "          (attention): BertAttention(\n",
       "            (self): BertSelfAttention(\n",
       "              (query): Linear(in_features=768, out_features=768, bias=True)\n",
       "              (key): Linear(in_features=768, out_features=768, bias=True)\n",
       "              (value): Linear(in_features=768, out_features=768, bias=True)\n",
       "              (dropout): Dropout(p=0.1, inplace=False)\n",
       "            )\n",
       "            (output): BertSelfOutput(\n",
       "              (dense): Linear(in_features=768, out_features=768, bias=True)\n",
       "              (LayerNorm): LayerNorm((768,), eps=1e-12, elementwise_affine=True)\n",
       "              (dropout): Dropout(p=0.1, inplace=False)\n",
       "            )\n",
       "          )\n",
       "          (intermediate): BertIntermediate(\n",
       "            (dense): Linear(in_features=768, out_features=3072, bias=True)\n",
       "            (intermediate_act_fn): GELUActivation()\n",
       "          )\n",
       "          (output): BertOutput(\n",
       "            (dense): Linear(in_features=3072, out_features=768, bias=True)\n",
       "            (LayerNorm): LayerNorm((768,), eps=1e-12, elementwise_affine=True)\n",
       "            (dropout): Dropout(p=0.1, inplace=False)\n",
       "          )\n",
       "        )\n",
       "        (1): BertLayer(\n",
       "          (attention): BertAttention(\n",
       "            (self): BertSelfAttention(\n",
       "              (query): Linear(in_features=768, out_features=768, bias=True)\n",
       "              (key): Linear(in_features=768, out_features=768, bias=True)\n",
       "              (value): Linear(in_features=768, out_features=768, bias=True)\n",
       "              (dropout): Dropout(p=0.1, inplace=False)\n",
       "            )\n",
       "            (output): BertSelfOutput(\n",
       "              (dense): Linear(in_features=768, out_features=768, bias=True)\n",
       "              (LayerNorm): LayerNorm((768,), eps=1e-12, elementwise_affine=True)\n",
       "              (dropout): Dropout(p=0.1, inplace=False)\n",
       "            )\n",
       "          )\n",
       "          (intermediate): BertIntermediate(\n",
       "            (dense): Linear(in_features=768, out_features=3072, bias=True)\n",
       "            (intermediate_act_fn): GELUActivation()\n",
       "          )\n",
       "          (output): BertOutput(\n",
       "            (dense): Linear(in_features=3072, out_features=768, bias=True)\n",
       "            (LayerNorm): LayerNorm((768,), eps=1e-12, elementwise_affine=True)\n",
       "            (dropout): Dropout(p=0.1, inplace=False)\n",
       "          )\n",
       "        )\n",
       "        (2): BertLayer(\n",
       "          (attention): BertAttention(\n",
       "            (self): BertSelfAttention(\n",
       "              (query): Linear(in_features=768, out_features=768, bias=True)\n",
       "              (key): Linear(in_features=768, out_features=768, bias=True)\n",
       "              (value): Linear(in_features=768, out_features=768, bias=True)\n",
       "              (dropout): Dropout(p=0.1, inplace=False)\n",
       "            )\n",
       "            (output): BertSelfOutput(\n",
       "              (dense): Linear(in_features=768, out_features=768, bias=True)\n",
       "              (LayerNorm): LayerNorm((768,), eps=1e-12, elementwise_affine=True)\n",
       "              (dropout): Dropout(p=0.1, inplace=False)\n",
       "            )\n",
       "          )\n",
       "          (intermediate): BertIntermediate(\n",
       "            (dense): Linear(in_features=768, out_features=3072, bias=True)\n",
       "            (intermediate_act_fn): GELUActivation()\n",
       "          )\n",
       "          (output): BertOutput(\n",
       "            (dense): Linear(in_features=3072, out_features=768, bias=True)\n",
       "            (LayerNorm): LayerNorm((768,), eps=1e-12, elementwise_affine=True)\n",
       "            (dropout): Dropout(p=0.1, inplace=False)\n",
       "          )\n",
       "        )\n",
       "        (3): BertLayer(\n",
       "          (attention): BertAttention(\n",
       "            (self): BertSelfAttention(\n",
       "              (query): Linear(in_features=768, out_features=768, bias=True)\n",
       "              (key): Linear(in_features=768, out_features=768, bias=True)\n",
       "              (value): Linear(in_features=768, out_features=768, bias=True)\n",
       "              (dropout): Dropout(p=0.1, inplace=False)\n",
       "            )\n",
       "            (output): BertSelfOutput(\n",
       "              (dense): Linear(in_features=768, out_features=768, bias=True)\n",
       "              (LayerNorm): LayerNorm((768,), eps=1e-12, elementwise_affine=True)\n",
       "              (dropout): Dropout(p=0.1, inplace=False)\n",
       "            )\n",
       "          )\n",
       "          (intermediate): BertIntermediate(\n",
       "            (dense): Linear(in_features=768, out_features=3072, bias=True)\n",
       "            (intermediate_act_fn): GELUActivation()\n",
       "          )\n",
       "          (output): BertOutput(\n",
       "            (dense): Linear(in_features=3072, out_features=768, bias=True)\n",
       "            (LayerNorm): LayerNorm((768,), eps=1e-12, elementwise_affine=True)\n",
       "            (dropout): Dropout(p=0.1, inplace=False)\n",
       "          )\n",
       "        )\n",
       "        (4): BertLayer(\n",
       "          (attention): BertAttention(\n",
       "            (self): BertSelfAttention(\n",
       "              (query): Linear(in_features=768, out_features=768, bias=True)\n",
       "              (key): Linear(in_features=768, out_features=768, bias=True)\n",
       "              (value): Linear(in_features=768, out_features=768, bias=True)\n",
       "              (dropout): Dropout(p=0.1, inplace=False)\n",
       "            )\n",
       "            (output): BertSelfOutput(\n",
       "              (dense): Linear(in_features=768, out_features=768, bias=True)\n",
       "              (LayerNorm): LayerNorm((768,), eps=1e-12, elementwise_affine=True)\n",
       "              (dropout): Dropout(p=0.1, inplace=False)\n",
       "            )\n",
       "          )\n",
       "          (intermediate): BertIntermediate(\n",
       "            (dense): Linear(in_features=768, out_features=3072, bias=True)\n",
       "            (intermediate_act_fn): GELUActivation()\n",
       "          )\n",
       "          (output): BertOutput(\n",
       "            (dense): Linear(in_features=3072, out_features=768, bias=True)\n",
       "            (LayerNorm): LayerNorm((768,), eps=1e-12, elementwise_affine=True)\n",
       "            (dropout): Dropout(p=0.1, inplace=False)\n",
       "          )\n",
       "        )\n",
       "        (5): BertLayer(\n",
       "          (attention): BertAttention(\n",
       "            (self): BertSelfAttention(\n",
       "              (query): Linear(in_features=768, out_features=768, bias=True)\n",
       "              (key): Linear(in_features=768, out_features=768, bias=True)\n",
       "              (value): Linear(in_features=768, out_features=768, bias=True)\n",
       "              (dropout): Dropout(p=0.1, inplace=False)\n",
       "            )\n",
       "            (output): BertSelfOutput(\n",
       "              (dense): Linear(in_features=768, out_features=768, bias=True)\n",
       "              (LayerNorm): LayerNorm((768,), eps=1e-12, elementwise_affine=True)\n",
       "              (dropout): Dropout(p=0.1, inplace=False)\n",
       "            )\n",
       "          )\n",
       "          (intermediate): BertIntermediate(\n",
       "            (dense): Linear(in_features=768, out_features=3072, bias=True)\n",
       "            (intermediate_act_fn): GELUActivation()\n",
       "          )\n",
       "          (output): BertOutput(\n",
       "            (dense): Linear(in_features=3072, out_features=768, bias=True)\n",
       "            (LayerNorm): LayerNorm((768,), eps=1e-12, elementwise_affine=True)\n",
       "            (dropout): Dropout(p=0.1, inplace=False)\n",
       "          )\n",
       "        )\n",
       "        (6): BertLayer(\n",
       "          (attention): BertAttention(\n",
       "            (self): BertSelfAttention(\n",
       "              (query): Linear(in_features=768, out_features=768, bias=True)\n",
       "              (key): Linear(in_features=768, out_features=768, bias=True)\n",
       "              (value): Linear(in_features=768, out_features=768, bias=True)\n",
       "              (dropout): Dropout(p=0.1, inplace=False)\n",
       "            )\n",
       "            (output): BertSelfOutput(\n",
       "              (dense): Linear(in_features=768, out_features=768, bias=True)\n",
       "              (LayerNorm): LayerNorm((768,), eps=1e-12, elementwise_affine=True)\n",
       "              (dropout): Dropout(p=0.1, inplace=False)\n",
       "            )\n",
       "          )\n",
       "          (intermediate): BertIntermediate(\n",
       "            (dense): Linear(in_features=768, out_features=3072, bias=True)\n",
       "            (intermediate_act_fn): GELUActivation()\n",
       "          )\n",
       "          (output): BertOutput(\n",
       "            (dense): Linear(in_features=3072, out_features=768, bias=True)\n",
       "            (LayerNorm): LayerNorm((768,), eps=1e-12, elementwise_affine=True)\n",
       "            (dropout): Dropout(p=0.1, inplace=False)\n",
       "          )\n",
       "        )\n",
       "        (7): BertLayer(\n",
       "          (attention): BertAttention(\n",
       "            (self): BertSelfAttention(\n",
       "              (query): Linear(in_features=768, out_features=768, bias=True)\n",
       "              (key): Linear(in_features=768, out_features=768, bias=True)\n",
       "              (value): Linear(in_features=768, out_features=768, bias=True)\n",
       "              (dropout): Dropout(p=0.1, inplace=False)\n",
       "            )\n",
       "            (output): BertSelfOutput(\n",
       "              (dense): Linear(in_features=768, out_features=768, bias=True)\n",
       "              (LayerNorm): LayerNorm((768,), eps=1e-12, elementwise_affine=True)\n",
       "              (dropout): Dropout(p=0.1, inplace=False)\n",
       "            )\n",
       "          )\n",
       "          (intermediate): BertIntermediate(\n",
       "            (dense): Linear(in_features=768, out_features=3072, bias=True)\n",
       "            (intermediate_act_fn): GELUActivation()\n",
       "          )\n",
       "          (output): BertOutput(\n",
       "            (dense): Linear(in_features=3072, out_features=768, bias=True)\n",
       "            (LayerNorm): LayerNorm((768,), eps=1e-12, elementwise_affine=True)\n",
       "            (dropout): Dropout(p=0.1, inplace=False)\n",
       "          )\n",
       "        )\n",
       "        (8): BertLayer(\n",
       "          (attention): BertAttention(\n",
       "            (self): BertSelfAttention(\n",
       "              (query): Linear(in_features=768, out_features=768, bias=True)\n",
       "              (key): Linear(in_features=768, out_features=768, bias=True)\n",
       "              (value): Linear(in_features=768, out_features=768, bias=True)\n",
       "              (dropout): Dropout(p=0.1, inplace=False)\n",
       "            )\n",
       "            (output): BertSelfOutput(\n",
       "              (dense): Linear(in_features=768, out_features=768, bias=True)\n",
       "              (LayerNorm): LayerNorm((768,), eps=1e-12, elementwise_affine=True)\n",
       "              (dropout): Dropout(p=0.1, inplace=False)\n",
       "            )\n",
       "          )\n",
       "          (intermediate): BertIntermediate(\n",
       "            (dense): Linear(in_features=768, out_features=3072, bias=True)\n",
       "            (intermediate_act_fn): GELUActivation()\n",
       "          )\n",
       "          (output): BertOutput(\n",
       "            (dense): Linear(in_features=3072, out_features=768, bias=True)\n",
       "            (LayerNorm): LayerNorm((768,), eps=1e-12, elementwise_affine=True)\n",
       "            (dropout): Dropout(p=0.1, inplace=False)\n",
       "          )\n",
       "        )\n",
       "        (9): BertLayer(\n",
       "          (attention): BertAttention(\n",
       "            (self): BertSelfAttention(\n",
       "              (query): Linear(in_features=768, out_features=768, bias=True)\n",
       "              (key): Linear(in_features=768, out_features=768, bias=True)\n",
       "              (value): Linear(in_features=768, out_features=768, bias=True)\n",
       "              (dropout): Dropout(p=0.1, inplace=False)\n",
       "            )\n",
       "            (output): BertSelfOutput(\n",
       "              (dense): Linear(in_features=768, out_features=768, bias=True)\n",
       "              (LayerNorm): LayerNorm((768,), eps=1e-12, elementwise_affine=True)\n",
       "              (dropout): Dropout(p=0.1, inplace=False)\n",
       "            )\n",
       "          )\n",
       "          (intermediate): BertIntermediate(\n",
       "            (dense): Linear(in_features=768, out_features=3072, bias=True)\n",
       "            (intermediate_act_fn): GELUActivation()\n",
       "          )\n",
       "          (output): BertOutput(\n",
       "            (dense): Linear(in_features=3072, out_features=768, bias=True)\n",
       "            (LayerNorm): LayerNorm((768,), eps=1e-12, elementwise_affine=True)\n",
       "            (dropout): Dropout(p=0.1, inplace=False)\n",
       "          )\n",
       "        )\n",
       "        (10): BertLayer(\n",
       "          (attention): BertAttention(\n",
       "            (self): BertSelfAttention(\n",
       "              (query): Linear(in_features=768, out_features=768, bias=True)\n",
       "              (key): Linear(in_features=768, out_features=768, bias=True)\n",
       "              (value): Linear(in_features=768, out_features=768, bias=True)\n",
       "              (dropout): Dropout(p=0.1, inplace=False)\n",
       "            )\n",
       "            (output): BertSelfOutput(\n",
       "              (dense): Linear(in_features=768, out_features=768, bias=True)\n",
       "              (LayerNorm): LayerNorm((768,), eps=1e-12, elementwise_affine=True)\n",
       "              (dropout): Dropout(p=0.1, inplace=False)\n",
       "            )\n",
       "          )\n",
       "          (intermediate): BertIntermediate(\n",
       "            (dense): Linear(in_features=768, out_features=3072, bias=True)\n",
       "            (intermediate_act_fn): GELUActivation()\n",
       "          )\n",
       "          (output): BertOutput(\n",
       "            (dense): Linear(in_features=3072, out_features=768, bias=True)\n",
       "            (LayerNorm): LayerNorm((768,), eps=1e-12, elementwise_affine=True)\n",
       "            (dropout): Dropout(p=0.1, inplace=False)\n",
       "          )\n",
       "        )\n",
       "        (11): BertLayer(\n",
       "          (attention): BertAttention(\n",
       "            (self): BertSelfAttention(\n",
       "              (query): Linear(in_features=768, out_features=768, bias=True)\n",
       "              (key): Linear(in_features=768, out_features=768, bias=True)\n",
       "              (value): Linear(in_features=768, out_features=768, bias=True)\n",
       "              (dropout): Dropout(p=0.1, inplace=False)\n",
       "            )\n",
       "            (output): BertSelfOutput(\n",
       "              (dense): Linear(in_features=768, out_features=768, bias=True)\n",
       "              (LayerNorm): LayerNorm((768,), eps=1e-12, elementwise_affine=True)\n",
       "              (dropout): Dropout(p=0.1, inplace=False)\n",
       "            )\n",
       "          )\n",
       "          (intermediate): BertIntermediate(\n",
       "            (dense): Linear(in_features=768, out_features=3072, bias=True)\n",
       "            (intermediate_act_fn): GELUActivation()\n",
       "          )\n",
       "          (output): BertOutput(\n",
       "            (dense): Linear(in_features=3072, out_features=768, bias=True)\n",
       "            (LayerNorm): LayerNorm((768,), eps=1e-12, elementwise_affine=True)\n",
       "            (dropout): Dropout(p=0.1, inplace=False)\n",
       "          )\n",
       "        )\n",
       "      )\n",
       "    )\n",
       "    (pooler): BertPooler(\n",
       "      (dense): Linear(in_features=768, out_features=768, bias=True)\n",
       "      (activation): Tanh()\n",
       "    )\n",
       "  )\n",
       "  (dropout): Dropout(p=0.1, inplace=False)\n",
       "  (classifier): Linear(in_features=768, out_features=4, bias=True)\n",
       ")"
      ]
     },
     "execution_count": 10,
     "metadata": {},
     "output_type": "execute_result"
    }
   ],
   "source": [
    "tokenizer = AutoTokenizer.from_pretrained(output_dir)\n",
    "model = AutoModelForSequenceClassification.from_pretrained(output_dir)\n",
    "model.cuda()\n",
    "model.eval()"
   ]
  },
  {
   "cell_type": "markdown",
   "id": "69614cab-2af6-42d8-b7dc-a53e22002f65",
   "metadata": {},
   "source": [
    "**Run a tokenization to get the maximal sequence length:**"
   ]
  },
  {
   "cell_type": "code",
   "execution_count": 11,
   "id": "a3535f6c-e921-407a-8c3e-56b8aba8ac5b",
   "metadata": {},
   "outputs": [
    {
     "name": "stdout",
     "output_type": "stream",
     "text": [
      "Max sentence length:  53\n"
     ]
    }
   ],
   "source": [
    "MAX_LEN = 0\n",
    "\n",
    "for text in dataset[\"text\"]:\n",
    "    input_ids = tokenizer.encode(text, \n",
    "                                 add_special_tokens=True)\n",
    "    MAX_LEN = max(MAX_LEN, len(input_ids))\n",
    "\n",
    "print('Max sentence length: ', MAX_LEN)"
   ]
  },
  {
   "cell_type": "markdown",
   "id": "bda73f69-5167-4795-a36f-b192b2d6bcbf",
   "metadata": {},
   "source": [
    "# 4. Compute SHAP"
   ]
  },
  {
   "cell_type": "code",
   "execution_count": 12,
   "id": "63bfca71-e6d3-4322-afae-d8fc19108e86",
   "metadata": {},
   "outputs": [],
   "source": [
    "def f(x):\n",
    "    tv = torch.tensor([tokenizer.encode(v, padding='max_length', max_length=MAX_LEN, truncation=True) for v in x]).to(device)#.cuda()\n",
    "    attention_mask = (tv!=0).type(torch.int64).cuda() \n",
    "    outputs = model(tv, attention_mask=attention_mask)[0].detach().cpu().numpy()\n",
    "    #outputs = model(tv)[0].detach().cpu().numpy()\n",
    "    \n",
    "    return outputs"
   ]
  },
  {
   "cell_type": "code",
   "execution_count": 13,
   "id": "23578b78-ed14-4ef9-a7bc-5f078309300b",
   "metadata": {},
   "outputs": [],
   "source": [
    "explainer = shap.Explainer(f, tokenizer)"
   ]
  },
  {
   "cell_type": "code",
   "execution_count": 14,
   "id": "0ccc633e-76a3-429b-b285-c8fc9f97fd23",
   "metadata": {},
   "outputs": [
    {
     "name": "stderr",
     "output_type": "stream",
     "text": [
      "Partition explainer: 4343it [49:47,  1.45it/s]                           \n"
     ]
    }
   ],
   "source": [
    "shap_values = explainer(dataset[\"text\"])"
   ]
  },
  {
   "cell_type": "markdown",
   "id": "bcf5bb98-19d7-4be0-9dda-9aa3a5928963",
   "metadata": {},
   "source": [
    "**Save SHAP values:**"
   ]
  },
  {
   "cell_type": "code",
   "execution_count": 15,
   "id": "15321ad1-8786-4295-8073-f53977e1336d",
   "metadata": {},
   "outputs": [],
   "source": [
    "with open('../results/shap/shap_values_' + output_dir.split(\"/\")[-1] + '.pkl', 'wb') as out_value:\n",
    "    pickle.dump(shap_values, out_value, pickle.HIGHEST_PROTOCOL)"
   ]
  },
  {
   "cell_type": "markdown",
   "id": "cfaf5e1e-d764-4f0a-9de8-0dec44055bd4",
   "metadata": {},
   "source": [
    "**Save explainer:**"
   ]
  },
  {
   "cell_type": "code",
   "execution_count": 17,
   "id": "82442bd1-c70e-466c-ac4d-23b90ea630a7",
   "metadata": {},
   "outputs": [],
   "source": [
    "with open(\"../results/shap/shap_explainer_\" + output_dir.split(\"/\")[-1] + \".sav\", \"wb\") as out:\n",
    "    explainer.save(out)"
   ]
  },
  {
   "cell_type": "markdown",
   "id": "bcce4b0f-b41c-497c-99f2-c9a4b3f0ecb4",
   "metadata": {},
   "source": [
    "# 5. Write out results"
   ]
  },
  {
   "cell_type": "code",
   "execution_count": 18,
   "id": "4d84649d-431e-4a05-b8bc-e00e8a446110",
   "metadata": {},
   "outputs": [],
   "source": [
    "model_shap_dict = {\n",
    "    \"bert-base-uncased\": \"../results/shap/shap_values_bert-base-uncased-figlang.pkl\",\n",
    "    \"roberta-base\": \"../results/shap/shap_values_roberta-base-figlang\",\n",
    "    \"xlnet-base-cased\": \"../results/shap/shap_values_xlnet-base-cased-figlang.pkl\",\n",
    "}"
   ]
  },
  {
   "cell_type": "code",
   "execution_count": 19,
   "id": "24f8706f-ea0a-4aaf-b2e3-5d6f6ca13eb8",
   "metadata": {},
   "outputs": [],
   "source": [
    "label_dict = {\n",
    "    0: \"sarcasm\", \n",
    "    1: \"idiom\",\n",
    "    2: \"simile\",\n",
    "    3: \"metaphor\"\n",
    "}"
   ]
  },
  {
   "cell_type": "code",
   "execution_count": 20,
   "id": "6ece5059-e900-43ba-a6f6-d0d157ace318",
   "metadata": {},
   "outputs": [],
   "source": [
    "def get_topk_features_by_class(shap_values, label, top_k):    \n",
    "    cohorts = {\"\": shap_values[:,:,label]}\n",
    "    cohort_exps = list(cohorts.values())\n",
    "    #cohort_exps[0] = cohort_exps[0].abs.mean(0)\n",
    "    cohort_exps[0] = cohort_exps[0].mean(0)\n",
    "       \n",
    "    features = cohort_exps[0].data\n",
    "    feature_names = cohort_exps[0].feature_names\n",
    "    \n",
    "    values = np.array([cohort_exps[i].values for i in range(len(cohort_exps))])\n",
    "    \n",
    "    feature_order = np.argsort(np.mean([np.argsort(convert_ordering(Explanation.argsort.flip, Explanation(values[i]))) for i in range(values.shape[0])], 0))\n",
    "    feature_inds = feature_order[:top_k]\n",
    "    \n",
    "    top_k_features = {}\n",
    "    for i in feature_inds:\n",
    "        #top_k_features.append(feature_names[i])\n",
    "        top_k_features[feature_names[i]] = values[0][i]\n",
    "\n",
    "    return top_k_features"
   ]
  },
  {
   "cell_type": "code",
   "execution_count": 21,
   "id": "38244eed-0dd4-46c0-9a46-96f03d6e1e98",
   "metadata": {},
   "outputs": [],
   "source": [
    "def get_corpus_feature_count(shap_values, label):\n",
    "    docs = shap_values.data\n",
    "    \n",
    "    corpus_feature_count = defaultdict(int)\n",
    "    for doc in docs:\n",
    "        for i in doc:\n",
    "            corpus_feature_count[i.strip()] += 1\n",
    "    \n",
    "    return corpus_feature_count"
   ]
  },
  {
   "cell_type": "code",
   "execution_count": 22,
   "id": "94528fc4-7d77-4751-aea4-fe254f69d6af",
   "metadata": {},
   "outputs": [],
   "source": [
    "def get_feature_count_by_label(doc_df, shap_values, label):\n",
    "    indice = list(doc_df.loc[doc_df[\"label\"] == label, ].index)\n",
    "    docs = np.array(shap_values.data)[indice]\n",
    "    \n",
    "    feature_count_per_label = defaultdict(int)\n",
    "    for doc in docs:\n",
    "        for i in doc:\n",
    "            feature_count_per_label[i.strip()] += 1\n",
    "    \n",
    "    return feature_count_per_label"
   ]
  },
  {
   "cell_type": "code",
   "execution_count": 23,
   "id": "3b8b44a8-f59b-4b80-ab9d-d7b8562de2c8",
   "metadata": {},
   "outputs": [],
   "source": [
    "shap_path = model_shap_dict[MODEL_NAME]\n",
    "shap_values = pickle.load(open(shap_path, 'rb'))"
   ]
  },
  {
   "cell_type": "code",
   "execution_count": 24,
   "id": "94eb6391-8fd1-45e9-bda4-67c32a7d7c8f",
   "metadata": {
    "tags": []
   },
   "outputs": [
    {
     "name": "stdout",
     "output_type": "stream",
     "text": [
      "Processing class 0\n"
     ]
    },
    {
     "name": "stderr",
     "output_type": "stream",
     "text": [
      "Creating an ndarray from ragged nested sequences (which is a list-or-tuple of lists-or-tuples-or ndarrays with different lengths or shapes) is deprecated. If you meant to do this, you must specify 'dtype=object' when creating the ndarray.\n",
      "Creating an ndarray from ragged nested sequences (which is a list-or-tuple of lists-or-tuples-or ndarrays with different lengths or shapes) is deprecated. If you meant to do this, you must specify 'dtype=object' when creating the ndarray.\n"
     ]
    },
    {
     "name": "stdout",
     "output_type": "stream",
     "text": [
      "Processing class 1\n",
      "Processing class 2\n",
      "Processing class 3\n",
      "Done.\n"
     ]
    }
   ],
   "source": [
    "doc_df = df_multi\n",
    "\n",
    "for i in range(len(label_dict)):\n",
    "    print(\"Processing class {}\".format(i))\n",
    "    top_k_features = get_topk_features_by_class(shap_values=shap_values, label=i, top_k=50)\n",
    "    feature_count_corpus = get_corpus_feature_count(shap_values=shap_values, label=i)\n",
    "    feature_count_per_label = get_feature_count_by_label(doc_df=doc_df, shap_values=shap_values, label=i)\n",
    "    \n",
    "    freq_by_label = []\n",
    "    freq_corpus = []\n",
    "\n",
    "    for feature in top_k_features.keys():\n",
    "        freq_by_label.append(feature_count_per_label[feature])\n",
    "        freq_corpus.append(feature_count_corpus[feature])\n",
    "    \n",
    "    label_corpus_freq_ratio = [i / j for i, j in zip(freq_by_label, freq_corpus)]\n",
    "    \n",
    "    df_result = pd.DataFrame({\"feature\": top_k_features.keys(),\n",
    "                              \"shap\": top_k_features.values(),\n",
    "                              \"freq_by_label\": freq_by_label,\n",
    "                              \"freq_corpus\": freq_corpus,\n",
    "                              \"label_corpus_freq_ratio\": label_corpus_freq_ratio,\n",
    "                             })\n",
    "    \n",
    "    \n",
    "    df_result.to_csv(\"../results/shap/top_50_features_blackbox/\" + \"_\".join(shap_path.split(\"/\")[-1].split(\".\")[0].split(\"_\")[2:]) \n",
    "                     + \"_\" + label_dict[i] + \".tsv\", \n",
    "                     sep=\"\\t\", encoding=\"utf-8\", index=False)\n",
    "    \n",
    "print(\"Done.\")"
   ]
  }
 ],
 "metadata": {
  "kernelspec": {
   "display_name": "Python 3 (ipykernel)",
   "language": "python",
   "name": "python3"
  },
  "language_info": {
   "codemirror_mode": {
    "name": "ipython",
    "version": 3
   },
   "file_extension": ".py",
   "mimetype": "text/x-python",
   "name": "python",
   "nbconvert_exporter": "python",
   "pygments_lexer": "ipython3",
   "version": "3.10.10"
  }
 },
 "nbformat": 4,
 "nbformat_minor": 5
}
