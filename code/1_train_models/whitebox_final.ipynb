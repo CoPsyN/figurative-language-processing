{
 "cells": [
  {
   "cell_type": "code",
   "execution_count": 2,
   "id": "bd5fea36-fe4c-41f4-a407-f2cfe7ad6900",
   "metadata": {},
   "outputs": [],
   "source": [
    "import pickle, datetime, xgboost\n",
    "import pandas as pd\n",
    "import numpy as np\n",
    "import seaborn as sns\n",
    "from sklearn.linear_model import LogisticRegression\n",
    "from sklearn.ensemble import RandomForestClassifier\n",
    "from sklearn.tree import DecisionTreeClassifier\n",
    "from sklearn.naive_bayes import GaussianNB,ComplementNB\n",
    "from sklearn.metrics import classification_report, f1_score, confusion_matrix, accuracy_score\n",
    "from sklearn.feature_extraction.text import TfidfVectorizer\n",
    "from matplotlib import pyplot as plt"
   ]
  },
  {
   "cell_type": "markdown",
   "id": "5fa81e75-207e-4ee5-b45e-c9ce852edbd6",
   "metadata": {},
   "source": [
    "# 1. Read in data"
   ]
  },
  {
   "cell_type": "code",
   "execution_count": 3,
   "id": "4354f032-3aa0-45af-89fb-dcac2f632ee6",
   "metadata": {},
   "outputs": [
    {
     "name": "stdout",
     "output_type": "stream",
     "text": [
      "(8678, 4)\n",
      "0    5186\n",
      "1    1762\n",
      "2     714\n",
      "3     517\n",
      "4     499\n",
      "Name: label, dtype: int64\n"
     ]
    },
    {
     "data": {
      "text/html": [
       "<div>\n",
       "<style scoped>\n",
       "    .dataframe tbody tr th:only-of-type {\n",
       "        vertical-align: middle;\n",
       "    }\n",
       "\n",
       "    .dataframe tbody tr th {\n",
       "        vertical-align: top;\n",
       "    }\n",
       "\n",
       "    .dataframe thead th {\n",
       "        text-align: right;\n",
       "    }\n",
       "</style>\n",
       "<table border=\"1\" class=\"dataframe\">\n",
       "  <thead>\n",
       "    <tr style=\"text-align: right;\">\n",
       "      <th></th>\n",
       "      <th>text</th>\n",
       "      <th>label</th>\n",
       "      <th>label_binary</th>\n",
       "      <th>source</th>\n",
       "    </tr>\n",
       "  </thead>\n",
       "  <tbody>\n",
       "    <tr>\n",
       "      <th>0</th>\n",
       "      <td>That building looks very strong</td>\n",
       "      <td>0</td>\n",
       "      <td>0</td>\n",
       "      <td>Simile_premise</td>\n",
       "    </tr>\n",
       "    <tr>\n",
       "      <th>1</th>\n",
       "      <td>I was really agonizing over this decision for ...</td>\n",
       "      <td>0</td>\n",
       "      <td>0</td>\n",
       "      <td>Metaphor_premise</td>\n",
       "    </tr>\n",
       "    <tr>\n",
       "      <th>2</th>\n",
       "      <td>I was so cheerful when I came outside this mor...</td>\n",
       "      <td>1</td>\n",
       "      <td>1</td>\n",
       "      <td>Sarcasm_hypothesis</td>\n",
       "    </tr>\n",
       "    <tr>\n",
       "      <th>3</th>\n",
       "      <td>Their language broadcasts us to believe them.</td>\n",
       "      <td>4</td>\n",
       "      <td>1</td>\n",
       "      <td>Metaphor_hypothesis</td>\n",
       "    </tr>\n",
       "    <tr>\n",
       "      <th>4</th>\n",
       "      <td>For centuries, the ruler has made life like a ...</td>\n",
       "      <td>3</td>\n",
       "      <td>1</td>\n",
       "      <td>Simile_hypothesis</td>\n",
       "    </tr>\n",
       "  </tbody>\n",
       "</table>\n",
       "</div>"
      ],
      "text/plain": [
       "                                                text  label  label_binary  \\\n",
       "0                    That building looks very strong      0             0   \n",
       "1  I was really agonizing over this decision for ...      0             0   \n",
       "2  I was so cheerful when I came outside this mor...      1             1   \n",
       "3      Their language broadcasts us to believe them.      4             1   \n",
       "4  For centuries, the ruler has made life like a ...      3             1   \n",
       "\n",
       "                source  \n",
       "0       Simile_premise  \n",
       "1     Metaphor_premise  \n",
       "2   Sarcasm_hypothesis  \n",
       "3  Metaphor_hypothesis  \n",
       "4    Simile_hypothesis  "
      ]
     },
     "execution_count": 3,
     "metadata": {},
     "output_type": "execute_result"
    }
   ],
   "source": [
    "df_train = pd.read_csv('../data/figlang_train.tsv', sep='\\t', encoding='utf-8')\n",
    "print(df_train.shape)\n",
    "print(df_train[\"label\"].value_counts())\n",
    "df_train.head()"
   ]
  },
  {
   "cell_type": "code",
   "execution_count": 4,
   "id": "ac02c750-942a-4bc9-95d6-5e6bd75d3ba6",
   "metadata": {},
   "outputs": [
    {
     "name": "stdout",
     "output_type": "stream",
     "text": [
      "(2170, 4)\n",
      "0    1320\n",
      "1     450\n",
      "2     170\n",
      "4     122\n",
      "3     108\n",
      "Name: label, dtype: int64\n"
     ]
    },
    {
     "data": {
      "text/html": [
       "<div>\n",
       "<style scoped>\n",
       "    .dataframe tbody tr th:only-of-type {\n",
       "        vertical-align: middle;\n",
       "    }\n",
       "\n",
       "    .dataframe tbody tr th {\n",
       "        vertical-align: top;\n",
       "    }\n",
       "\n",
       "    .dataframe thead th {\n",
       "        text-align: right;\n",
       "    }\n",
       "</style>\n",
       "<table border=\"1\" class=\"dataframe\">\n",
       "  <thead>\n",
       "    <tr style=\"text-align: right;\">\n",
       "      <th></th>\n",
       "      <th>text</th>\n",
       "      <th>label</th>\n",
       "      <th>label_binary</th>\n",
       "      <th>source</th>\n",
       "    </tr>\n",
       "  </thead>\n",
       "  <tbody>\n",
       "    <tr>\n",
       "      <th>0</th>\n",
       "      <td>My considerate roommate cooked some meat with ...</td>\n",
       "      <td>1</td>\n",
       "      <td>1</td>\n",
       "      <td>Sarcasm_hypothesis</td>\n",
       "    </tr>\n",
       "    <tr>\n",
       "      <th>1</th>\n",
       "      <td>The spy was very quiet</td>\n",
       "      <td>0</td>\n",
       "      <td>0</td>\n",
       "      <td>Simile_premise</td>\n",
       "    </tr>\n",
       "    <tr>\n",
       "      <th>2</th>\n",
       "      <td>Look at lucy - very skinny and slender.</td>\n",
       "      <td>0</td>\n",
       "      <td>0</td>\n",
       "      <td>Idiom_premise</td>\n",
       "    </tr>\n",
       "    <tr>\n",
       "      <th>3</th>\n",
       "      <td>Turns out, tag between super heroes can get li...</td>\n",
       "      <td>3</td>\n",
       "      <td>1</td>\n",
       "      <td>Simile_hypothesis</td>\n",
       "    </tr>\n",
       "    <tr>\n",
       "      <th>4</th>\n",
       "      <td>Allister knows nothing about wine, he is a tee...</td>\n",
       "      <td>0</td>\n",
       "      <td>0</td>\n",
       "      <td>Metaphor_premise</td>\n",
       "    </tr>\n",
       "  </tbody>\n",
       "</table>\n",
       "</div>"
      ],
      "text/plain": [
       "                                                text  label  label_binary  \\\n",
       "0  My considerate roommate cooked some meat with ...      1             1   \n",
       "1                             The spy was very quiet      0             0   \n",
       "2            Look at lucy - very skinny and slender.      0             0   \n",
       "3  Turns out, tag between super heroes can get li...      3             1   \n",
       "4  Allister knows nothing about wine, he is a tee...      0             0   \n",
       "\n",
       "               source  \n",
       "0  Sarcasm_hypothesis  \n",
       "1      Simile_premise  \n",
       "2       Idiom_premise  \n",
       "3   Simile_hypothesis  \n",
       "4    Metaphor_premise  "
      ]
     },
     "execution_count": 4,
     "metadata": {},
     "output_type": "execute_result"
    }
   ],
   "source": [
    "df_test = pd.read_csv('../data/figlang_test.tsv', sep='\\t', encoding='utf-8')\n",
    "print(df_test.shape)\n",
    "print(df_test[\"label\"].value_counts())\n",
    "df_test.head()"
   ]
  },
  {
   "cell_type": "code",
   "execution_count": 5,
   "id": "a2553f39-e6f2-411e-ab30-89e4f6b6beeb",
   "metadata": {},
   "outputs": [],
   "source": [
    "RANDOM_STATE = 45"
   ]
  },
  {
   "cell_type": "markdown",
   "id": "a354f4c3-bb3d-423d-bc29-6cb712582c6d",
   "metadata": {},
   "source": [
    "# 2. Convert the text to tf-idf vectors"
   ]
  },
  {
   "cell_type": "code",
   "execution_count": 6,
   "id": "2e245139-3c8e-4223-900e-8d0114c02508",
   "metadata": {},
   "outputs": [
    {
     "name": "stdout",
     "output_type": "stream",
     "text": [
      "(3492, 6224)\n",
      "(3492,)\n",
      "(850, 6224)\n",
      "(850,)\n"
     ]
    }
   ],
   "source": [
    "df_train_multi = df_train[df_train['label'] != 0]\n",
    "df_test_multi = df_test[df_test['label'] != 0]\n",
    "\n",
    "tfidf_multi = TfidfVectorizer(ngram_range=(1, 1))\n",
    "\n",
    "X_train = tfidf_multi.fit_transform(df_train_multi['text']).toarray()\n",
    "y_train = df_train_multi['label']\n",
    "\n",
    "X_test = tfidf_multi.transform(df_test_multi['text']).toarray()\n",
    "y_test = df_test_multi['label']\n",
    "\n",
    "print(X_train.shape)\n",
    "print(y_train.shape)\n",
    "print(X_test.shape)\n",
    "print(y_test.shape)"
   ]
  },
  {
   "cell_type": "markdown",
   "id": "4aa33841-01ab-4704-8ec1-a07795453447",
   "metadata": {},
   "source": [
    "**Save tf-idf vectorizer:**"
   ]
  },
  {
   "cell_type": "code",
   "execution_count": 7,
   "id": "48a85796-52af-47c8-b9fd-e893ac401b74",
   "metadata": {},
   "outputs": [],
   "source": [
    "pickle.dump(tfidf_multi, open(\"../results/models/tfidf_vectorizer.sav\", 'wb'))"
   ]
  },
  {
   "cell_type": "markdown",
   "id": "1f65237f-3d1e-43aa-aac9-189875c08ad3",
   "metadata": {},
   "source": [
    "# 3. Train final classification models"
   ]
  },
  {
   "cell_type": "code",
   "execution_count": 8,
   "id": "15aae347-df25-4af4-93fb-6f10e747566c",
   "metadata": {},
   "outputs": [],
   "source": [
    "def train_model(model, model_name, X_train, y_train, X_test, y_test):\n",
    "    # 1. Train model: \n",
    "    model.fit(X_train, y_train)\n",
    "    preds = model.predict(X_test)\n",
    "    print(classification_report(y_test, preds, target_names=['sarcasm', 'idiom', 'simile', 'metaphor']))\n",
    "    \n",
    "    # 2. Save confusion matrix: \n",
    "    cm = confusion_matrix(y_test, preds, labels=[1, 3, 2, 4]) \n",
    "    sns.heatmap(cm, \n",
    "                annot=True, \n",
    "                fmt=\"d\", \n",
    "                yticklabels=['sarcasm', 'simile', 'idiom', 'metaphor'], \n",
    "                xticklabels=['sarcasm', 'simile', 'idiom', 'metaphor'], \n",
    "                cmap=\"Greens\", \n",
    "                annot_kws={'fontsize': 12})\n",
    "\n",
    "    plt.savefig(\"../results/classification_results/confusion_matrix_testset_\" + model_name + \".pdf\")\n",
    "    \n",
    "    # 3. Save predicted labels:\n",
    "    df_pred = pd.DataFrame({\"label\": y_test,\n",
    "                            \"text\": df_test_multi[\"text\"],\n",
    "                            \"pred\": preds})\n",
    "\n",
    "    df_pred.to_csv(\"../results/classification_results/predicted_labels_testset_\" + model_name + \".tsv\", \n",
    "                   sep='\\t', encoding='utf-8', index=False)\n",
    "    \n",
    "    # 4. Save classification report:\n",
    "    report = classification_report(y_test, preds, output_dict=True)\n",
    "    df_result = pd.DataFrame(report).transpose()\n",
    "    df_result.to_csv(\"../results/classification_results/classification_report_testset_\" + model_name + \".tsv\", \n",
    "                     sep = \"\\t\", encoding=\"utf-8\")\n",
    "    \n",
    "    # 5. Save model\n",
    "    pickle.dump(model, open(\"../results/models/\" + model_name + \".sav\", 'wb'))"
   ]
  },
  {
   "cell_type": "markdown",
   "id": "1e535206-a89b-4d33-b58c-9ccf0ec78037",
   "metadata": {},
   "source": [
    "## 3.1 Random forest"
   ]
  },
  {
   "cell_type": "code",
   "execution_count": 9,
   "id": "f4bfdb20-aea3-4cd5-8a5d-0b9dbce6645b",
   "metadata": {},
   "outputs": [
    {
     "name": "stdout",
     "output_type": "stream",
     "text": [
      "              precision    recall  f1-score   support\n",
      "\n",
      "     sarcasm       0.91      0.99      0.95       450\n",
      "       idiom       0.84      0.66      0.74       170\n",
      "      simile       0.92      0.93      0.92       108\n",
      "    metaphor       0.86      0.83      0.85       122\n",
      "\n",
      "    accuracy                           0.89       850\n",
      "   macro avg       0.88      0.85      0.86       850\n",
      "weighted avg       0.89      0.89      0.89       850\n",
      "\n"
     ]
    },
    {
     "data": {
      "image/png": "[encoded data removed]",
      "text/plain": [
       "<Figure size 640x480 with 2 Axes>"
      ]
     },
     "metadata": {},
     "output_type": "display_data"
    }
   ],
   "source": [
    "rf = RandomForestClassifier(random_state=RANDOM_STATE, n_estimators=100)\n",
    "train_model(rf, \"rf\", X_train, y_train, X_test, y_test)"
   ]
  },
  {
   "cell_type": "markdown",
   "id": "277dd511-419f-4d4f-bb2b-c0c74a4b38ba",
   "metadata": {},
   "source": [
    "## 3.2 Logistic regression"
   ]
  },
  {
   "cell_type": "code",
   "execution_count": 10,
   "id": "3d197fd2-5a00-4d1e-ac9e-97661325b18f",
   "metadata": {},
   "outputs": [
    {
     "name": "stdout",
     "output_type": "stream",
     "text": [
      "              precision    recall  f1-score   support\n",
      "\n",
      "     sarcasm       0.92      1.00      0.96       450\n",
      "       idiom       0.81      0.76      0.79       170\n",
      "      simile       0.89      0.96      0.92       108\n",
      "    metaphor       0.92      0.66      0.77       122\n",
      "\n",
      "    accuracy                           0.90       850\n",
      "   macro avg       0.88      0.84      0.86       850\n",
      "weighted avg       0.90      0.90      0.89       850\n",
      "\n"
     ]
    },
    {
     "data": {
      "image/png": "[encoded data removed]",
      "text/plain": [
       "<Figure size 640x480 with 2 Axes>"
      ]
     },
     "metadata": {},
     "output_type": "display_data"
    }
   ],
   "source": [
    "lr = LogisticRegression(solver='sag', multi_class=\"multinomial\", random_state=RANDOM_STATE)\n",
    "train_model(lr, \"lr\", X_train, y_train, X_test, y_test)"
   ]
  }
 ],
 "metadata": {
  "kernelspec": {
   "display_name": "Python 3 (ipykernel)",
   "language": "python",
   "name": "python3"
  },
  "language_info": {
   "codemirror_mode": {
    "name": "ipython",
    "version": 3
   },
   "file_extension": ".py",
   "mimetype": "text/x-python",
   "name": "python",
   "nbconvert_exporter": "python",
   "pygments_lexer": "ipython3",
   "version": "3.10.10"
  }
 },
 "nbformat": 4,
 "nbformat_minor": 5
}
