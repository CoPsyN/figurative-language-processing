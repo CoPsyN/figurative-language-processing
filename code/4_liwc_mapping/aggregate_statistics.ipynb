{
 "cells": [
  {
   "cell_type": "code",
   "execution_count": 1,
   "id": "de15667f-a2b8-45d7-9e5a-ca911c154b9e",
   "metadata": {},
   "outputs": [],
   "source": [
    "import os\n",
    "import pandas as pd\n",
    "from collections import defaultdict"
   ]
  },
  {
   "cell_type": "code",
   "execution_count": 2,
   "id": "7f3c6635-af9b-44aa-b661-40607548c29f",
   "metadata": {},
   "outputs": [],
   "source": [
    "categ_to_use_functional = [\"pronoun\", \"article\", \"prep\", \"auxverb\", \"conj\", \"negate\", \"interrog\", \"quant\"] \n",
    "categ_to_use_content = [\"verb\", \"adj\", \"adverb\", \"compare\"]\n",
    "categ_to_use_sentiment = [\"posemo\", \"negemo\"]"
   ]
  },
  {
   "cell_type": "code",
   "execution_count": 3,
   "id": "6f1e0132-4173-4fdd-8e81-6fa5123759d7",
   "metadata": {},
   "outputs": [],
   "source": [
    "object_name_mapping = {\n",
    "    \"bert\": \"BERT\",\n",
    "    \"roberta\": \"RoBERTa\",\n",
    "    \"xlnet\": \"XLNet\",\n",
    "    \"lr\": \"LR\",\n",
    "    \"rf\": \"RF\",\n",
    "    \"humans\": \"Human\",\n",
    "}"
   ]
  },
  {
   "cell_type": "code",
   "execution_count": 4,
   "id": "3c50ecc8-d2ee-47cd-8eec-a419614eceaf",
   "metadata": {},
   "outputs": [],
   "source": [
    "input_root = \"../results/liwc_mapping/manual_updates\""
   ]
  },
  {
   "cell_type": "code",
   "execution_count": 5,
   "id": "8a8ab23f-a3f9-458a-a8aa-9bf2f51af6fe",
   "metadata": {
    "tags": []
   },
   "outputs": [],
   "source": [
    "object_names = []\n",
    "figlang_classes = []\n",
    "liwc_categories = []\n",
    "counts = []\n",
    "\n",
    "for filename in os.listdir(input_root):\n",
    "    if filename.endswith(\"csv\"):\n",
    "        df = pd.read_csv(os.path.join(input_root, filename))\n",
    "        df = df[categ_to_use_functional + categ_to_use_content + categ_to_use_sentiment]\n",
    "        #df = df.iloc[:20, :]\n",
    "        \n",
    "        count_dict = dict(df.count())\n",
    "        \n",
    "        for k, v in count_dict.items():\n",
    "            current_object_name = filename.split(\"_\")[1]\n",
    "            object_names.append(object_name_mapping[current_object_name])            \n",
    "            figlang_classes.append(filename.split(\"_\")[2].split(\".\")[0])\n",
    "            liwc_categories.append(k)\n",
    "            counts.append(v)"
   ]
  },
  {
   "cell_type": "code",
   "execution_count": 6,
   "id": "d81bf77f-b8d9-46aa-8dec-f210c04a426e",
   "metadata": {},
   "outputs": [
    {
     "data": {
      "text/html": [
       "<div>\n",
       "<style scoped>\n",
       "    .dataframe tbody tr th:only-of-type {\n",
       "        vertical-align: middle;\n",
       "    }\n",
       "\n",
       "    .dataframe tbody tr th {\n",
       "        vertical-align: top;\n",
       "    }\n",
       "\n",
       "    .dataframe thead th {\n",
       "        text-align: right;\n",
       "    }\n",
       "</style>\n",
       "<table border=\"1\" class=\"dataframe\">\n",
       "  <thead>\n",
       "    <tr style=\"text-align: right;\">\n",
       "      <th></th>\n",
       "      <th>object</th>\n",
       "      <th>figurative_language_class</th>\n",
       "      <th>LIWC_category</th>\n",
       "      <th>count</th>\n",
       "    </tr>\n",
       "  </thead>\n",
       "  <tbody>\n",
       "    <tr>\n",
       "      <th>0</th>\n",
       "      <td>Human</td>\n",
       "      <td>idiom</td>\n",
       "      <td>pronoun</td>\n",
       "      <td>0</td>\n",
       "    </tr>\n",
       "    <tr>\n",
       "      <th>1</th>\n",
       "      <td>Human</td>\n",
       "      <td>idiom</td>\n",
       "      <td>article</td>\n",
       "      <td>0</td>\n",
       "    </tr>\n",
       "    <tr>\n",
       "      <th>2</th>\n",
       "      <td>Human</td>\n",
       "      <td>idiom</td>\n",
       "      <td>prep</td>\n",
       "      <td>1</td>\n",
       "    </tr>\n",
       "    <tr>\n",
       "      <th>3</th>\n",
       "      <td>Human</td>\n",
       "      <td>idiom</td>\n",
       "      <td>auxverb</td>\n",
       "      <td>0</td>\n",
       "    </tr>\n",
       "    <tr>\n",
       "      <th>4</th>\n",
       "      <td>Human</td>\n",
       "      <td>idiom</td>\n",
       "      <td>conj</td>\n",
       "      <td>0</td>\n",
       "    </tr>\n",
       "    <tr>\n",
       "      <th>...</th>\n",
       "      <td>...</td>\n",
       "      <td>...</td>\n",
       "      <td>...</td>\n",
       "      <td>...</td>\n",
       "    </tr>\n",
       "    <tr>\n",
       "      <th>331</th>\n",
       "      <td>BERT</td>\n",
       "      <td>idiom</td>\n",
       "      <td>adj</td>\n",
       "      <td>1</td>\n",
       "    </tr>\n",
       "    <tr>\n",
       "      <th>332</th>\n",
       "      <td>BERT</td>\n",
       "      <td>idiom</td>\n",
       "      <td>adverb</td>\n",
       "      <td>0</td>\n",
       "    </tr>\n",
       "    <tr>\n",
       "      <th>333</th>\n",
       "      <td>BERT</td>\n",
       "      <td>idiom</td>\n",
       "      <td>compare</td>\n",
       "      <td>0</td>\n",
       "    </tr>\n",
       "    <tr>\n",
       "      <th>334</th>\n",
       "      <td>BERT</td>\n",
       "      <td>idiom</td>\n",
       "      <td>posemo</td>\n",
       "      <td>0</td>\n",
       "    </tr>\n",
       "    <tr>\n",
       "      <th>335</th>\n",
       "      <td>BERT</td>\n",
       "      <td>idiom</td>\n",
       "      <td>negemo</td>\n",
       "      <td>0</td>\n",
       "    </tr>\n",
       "  </tbody>\n",
       "</table>\n",
       "<p>336 rows × 4 columns</p>\n",
       "</div>"
      ],
      "text/plain": [
       "    object figurative_language_class LIWC_category  count\n",
       "0    Human                     idiom       pronoun      0\n",
       "1    Human                     idiom       article      0\n",
       "2    Human                     idiom          prep      1\n",
       "3    Human                     idiom       auxverb      0\n",
       "4    Human                     idiom          conj      0\n",
       "..     ...                       ...           ...    ...\n",
       "331   BERT                     idiom           adj      1\n",
       "332   BERT                     idiom        adverb      0\n",
       "333   BERT                     idiom       compare      0\n",
       "334   BERT                     idiom        posemo      0\n",
       "335   BERT                     idiom        negemo      0\n",
       "\n",
       "[336 rows x 4 columns]"
      ]
     },
     "execution_count": 6,
     "metadata": {},
     "output_type": "execute_result"
    }
   ],
   "source": [
    "df_result = pd.DataFrame({\"object\": object_names,\n",
    "                          \"figurative_language_class\": figlang_classes,\n",
    "                          \"LIWC_category\": liwc_categories,\n",
    "                          \"count\": counts})\n",
    "\n",
    "df_result"
   ]
  },
  {
   "cell_type": "code",
   "execution_count": 7,
   "id": "11dccfcf-af70-4967-8077-4fc48a464251",
   "metadata": {},
   "outputs": [],
   "source": [
    "df_result.to_csv(\"../results/liwc_mapping/liwc_mapping_aggregated_statistics.tsv\", \n",
    "                 sep=\"\\t\", encoding=\"utf-8\", index=False)"
   ]
  }
 ],
 "metadata": {
  "kernelspec": {
   "display_name": "Python 3 (ipykernel)",
   "language": "python",
   "name": "python3"
  },
  "language_info": {
   "codemirror_mode": {
    "name": "ipython",
    "version": 3
   },
   "file_extension": ".py",
   "mimetype": "text/x-python",
   "name": "python",
   "nbconvert_exporter": "python",
   "pygments_lexer": "ipython3",
   "version": "3.10.10"
  }
 },
 "nbformat": 4,
 "nbformat_minor": 5
}
